{
 "cells": [
  {
   "cell_type": "markdown",
   "id": "d31fcc01-4ff7-47bf-8f44-c37342d657c2",
   "metadata": {},
   "source": [
    "# Medical Trial: K-armed Bandit Problem Implementation"
   ]
  },
  {
   "cell_type": "code",
   "execution_count": 1,
   "id": "693e8fd6-4010-4da3-8609-b50bfc5d1050",
   "metadata": {},
   "outputs": [],
   "source": [
    "import numpy as np\n",
    "import matplotlib.pyplot as plt"
   ]
  },
  {
   "cell_type": "markdown",
   "id": "ee17c062-4bed-4e77-8adb-11c1f17cc70b",
   "metadata": {},
   "source": [
    "### Creating the classes"
   ]
  },
  {
   "cell_type": "code",
   "execution_count": 666,
   "id": "c3bd2d28-fdea-4f75-b434-a6a9d8531b49",
   "metadata": {},
   "outputs": [],
   "source": [
    "class BanditMedTrial():\n",
    "    def __init__(self, k, rewards):\n",
    "        self.k = k\n",
    "        self.q_reward = rewards\n",
    "\n",
    "    def get_reward(self, action):\n",
    "        return np.random.normal(self.q_reward[action], 6)\n",
    "\n",
    "class AgentDoctor():\n",
    "    def __init__(self, actions, epsilon, alpha, initial_q):\n",
    "        self.actions = actions\n",
    "        self.epsilon = epsilon\n",
    "        self.alpha = alpha\n",
    "        self.q_estimates = np.full(actions, initial_q, dtype=float)\n",
    "        self.action_counts = np.zeros(actions, dtype=float)\n",
    "\n",
    "    def select_action(self):\n",
    "        r = np.random.rand()\n",
    "        if r < self.epsilon:\n",
    "            return np.random.randint(self.actions)\n",
    "        else:\n",
    "            return np.argmax(self.q_estimates)\n"
   ]
  },
  {
   "cell_type": "code",
   "execution_count": 669,
   "id": "f3c20d28-0a93-459a-9301-cd9317fe99bb",
   "metadata": {},
   "outputs": [
    {
     "name": "stdout",
     "output_type": "stream",
     "text": [
      "<bound method AgentDoctor.select_action of <__main__.AgentDoctor object at 0x1485ef140>>\n"
     ]
    }
   ],
   "source": [
    "MedTrial = BanditMedTrial(k=3, rewards=np.array([1, 3, 6]))\n",
    "DrGreedy = AgentDoctor(actions=3, epsilon=0.1, alpha=30, initial_q=0)\n",
    "print(DrGreedy.select_action)"
   ]
  }
 ],
 "metadata": {
  "kernelspec": {
   "display_name": "Python 3 (ipykernel)",
   "language": "python",
   "name": "python3"
  },
  "language_info": {
   "codemirror_mode": {
    "name": "ipython",
    "version": 3
   },
   "file_extension": ".py",
   "mimetype": "text/x-python",
   "name": "python",
   "nbconvert_exporter": "python",
   "pygments_lexer": "ipython3",
   "version": "3.12.7"
  }
 },
 "nbformat": 4,
 "nbformat_minor": 5
}
