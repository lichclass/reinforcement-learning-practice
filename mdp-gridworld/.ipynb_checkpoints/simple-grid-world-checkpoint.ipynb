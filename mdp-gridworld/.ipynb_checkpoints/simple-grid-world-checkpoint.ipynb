{
 "cells": [
  {
   "cell_type": "markdown",
   "id": "1d636232-dd34-427f-9efb-cf3c74bc004e",
   "metadata": {},
   "source": [
    "# Markov Decision Process in a Grid World\n",
    "\n",
    "#### Goal: Reach a Specific Cell\n",
    "\n",
    "Using the concepts of Markov Decision Process, we will find the optimal state values and policies (best actions) to the specific goal"
   ]
  },
  {
   "cell_type": "markdown",
   "id": "ab2aef78-4ec5-4689-ae55-3c41193a19a6",
   "metadata": {},
   "source": [
    "### Pre-steps. Importing Required Libraries\n",
    "---"
   ]
  },
  {
   "cell_type": "code",
   "execution_count": 1,
   "id": "c54f168c-ca0e-4451-9cd1-b80233f86ea9",
   "metadata": {},
   "outputs": [],
   "source": [
    "import numpy as np\n",
    "import matplotlib.pyplot as plt"
   ]
  },
  {
   "cell_type": "markdown",
   "id": "00174b7c-cb98-459f-aef0-c6d0bf946a91",
   "metadata": {},
   "source": [
    "### Step 1. Defining the MDP Components\n",
    "---\n",
    "**MDP Components**\n",
    "- **Description**: A Markov Decision Process is a tuple $(\\mathcal{S}, \\mathcal{A}, \\mathcal{P}, \\mathcal{R}, \\gamma)$\n",
    "- **States ($\\mathcal{S}$)**:\n",
    "    - Each cell in the grid is a **state**.\n",
    "    - For this world, it will be a 5x5 Grid with 25 states labeled as (0,0), (0,1), (1,2)...(4,4)\n",
    "- **Actions ($\\mathcal{A}$)**:\n",
    "    - The agent can choose from: Up, Down, Left, Right.\n",
    "- **Transition Probabilities ($\\mathcal{P}$)**:\n",
    "    - For simplicity, we will use **deterministic transitions** (i.e., when the agent chooses “Up,” it always moves up unless blocked by a wall).\n",
    "- **Reward Function ($\\mathcal{R}$)**:\n",
    "    - Goal State: +1 Reward\n",
    "    - Every Move: Small Negative reward (e.g. -0.1) to encourage efficiency.\n",
    "- **Discount Factor $\\gamma$**:\n",
    "    - Discount will be $\\gamma$ = 0.9, meaning the agent values future rewards slightly less than immediate ones."
   ]
  },
  {
   "cell_type": "code",
   "execution_count": 2,
   "id": "7dd19e06-ab0a-40db-a947-383916fd2cec",
   "metadata": {},
   "outputs": [],
   "source": [
    "# Defining the Grid Environment\n",
    "\n",
    "grid_size = (5, 5)\n",
    "states = [(i, j) for i in range(grid_size[0]) for j in range(grid_size[1])] # Initializing the states\n",
    "actions = ['U', 'D', 'L', 'R'] # Up, Down, Left, Right\n",
    "terminal_states = [(0, 0), (4, 4)] # Top-left, Top Right\n",
    "\n",
    "def is_terminal(state):\n",
    "    return state in terminal_states\n",
    "\n",
    "# Transition Probabilities, Deterministic (Not Random)\n",
    "def transition(state, action):\n",
    "    # Returns the same state if its at the terminal state i.e. the end goal\n",
    "    if is_terminal(state):\n",
    "        return state\n",
    "    i, j = state\n",
    "    if action == 'U':\n",
    "        # row: max(i - 1, 0) decreases the row index by 1, but makes sure it doesnt go below 0\n",
    "        # col: stays the same\n",
    "        return (max(i - 1, 0), j)\n",
    "    if action == 'D':\n",
    "        # row: min(i + 1, grid_size[0] - 1) increases the row index by 1, but makes \n",
    "        #      sure it doesn't go beyond the last index of the column (4 in this case)\n",
    "        # col: stays the same\n",
    "        return (min(i + 1, grid_size[0] - 1), j)\n",
    "    if action == 'L':\n",
    "        # row: stays the same\n",
    "        # col: max(j - 1, 0) decreases the column index by 1, but makes sure it doesnt go below 0\n",
    "        return (i, max(j - 1, 0))\n",
    "    if action == 'R':\n",
    "        # row: stays the same\n",
    "        # col: min(j + 1, grid_size[1] - 1) increases the column index by 1, but makes \n",
    "        #      sure it doesn't go beyond the last index of the row (4 in this case)\n",
    "        return (i, min(j + 1, grid_size[1] - 1))\n",
    "\n",
    "# Reward Function\n",
    "def reward(state, action):\n",
    "    return -0.1 if not is_terminal(state) else 0\n",
    "\n",
    "# Parameters\n",
    "gamma = 0.9\n",
    "theta = 0.0001 # Convergence Threshold"
   ]
  },
  {
   "cell_type": "markdown",
   "id": "7c624300-5702-462c-857f-e794959df21f",
   "metadata": {},
   "source": [
    "### Step 2. Initializing the State-Value Function (V)\n",
    "---\n",
    "\n",
    "The State-Value Function $v(s)$ estimates how good it is to be a in a certain state.\n",
    "\n",
    "At first, we will be initializing the state-value of all states to $0$ i.e. This represents the agent having **no knowledge** about the environment yet."
   ]
  },
  {
   "cell_type": "code",
   "execution_count": 3,
   "id": "61abb3fc-7ed3-4b7c-a869-f65f2b14c0ad",
   "metadata": {},
   "outputs": [],
   "source": [
    "# Initializing the Value Function\n",
    "V = {state: 0 for state in states}"
   ]
  },
  {
   "cell_type": "markdown",
   "id": "30e28962-c7f8-4ad8-b4c4-027e1145e007",
   "metadata": {},
   "source": [
    "### Step 3. Applying the Bellman Equation\n",
    "---\n",
    "\n",
    "The goal is to find the optimal policy (best action for each state) by maximizing expected rewards. This is done through Dynamic Programming techniques:\n",
    "\n",
    "#### Finding the Optimal Value Function $v_*(s)$\n",
    "\n",
    "The Bellman Optimality Equation:\n",
    "\n",
    "\\begin{equation}\n",
    "v_*(s)=\\underset{a}{max}\n",
    "\\begin{bmatrix}\n",
    "\\mathcal{R}^a_s+\\gamma \\underset{s' \\in S}{\\sum} \\mathcal{P}^a_{ss'} v_*(s')\n",
    "\\end{bmatrix}\n",
    "\\end{equation}\n",
    "\n",
    "Since this environment is simply deterministic (no probability of changing actions), we will use the following equation:\n",
    "\n",
    "\\begin{equation}\n",
    "v_*(s)=\\underset{a}{max}\n",
    "\\begin{bmatrix}\n",
    "\\mathcal{R}^a_s+\\gamma \\cdot v_*(s')\n",
    "\\end{bmatrix}\n",
    "\\end{equation}"
   ]
  },
  {
   "cell_type": "code",
   "execution_count": 4,
   "id": "65f3862d-974c-44f9-885e-ae8fd643b808",
   "metadata": {},
   "outputs": [],
   "source": [
    "# 3.1 State-Value Iteration Loop\n",
    "while True:\n",
    "    delta = 0 # Used to store the changes in V(s)\n",
    "    for state in states:\n",
    "\n",
    "        # Do not compute if the state is a terminal state\n",
    "        if is_terminal(state):\n",
    "            continue\n",
    "\n",
    "        v = V[state]\n",
    "\n",
    "        V[state] = max( reward(state, action) + gamma * V[transition(state, action)] \n",
    "                        for action in actions\n",
    "                      )\n",
    "        delta = max(delta, abs(v - V[state]))\n",
    "\n",
    "    # Stops the loop if delta is below the threshold (meaning, nothing changed that much)\n",
    "    if delta < theta:\n",
    "        break"
   ]
  },
  {
   "cell_type": "markdown",
   "id": "0023e784-3141-4706-9e02-cc5ace53f5aa",
   "metadata": {},
   "source": [
    "#### Policy Extraction\n",
    "\n",
    "After the value function stabilizes:\n",
    "\n",
    "For each state, choose the action $a$ that maximizes the expected value. Again, the environment is deterministic thus, we will use the following equation:\n",
    "\n",
    "\\begin{equation}\n",
    "\\pi_*(s) = arg \\text{ } \\underset{a}{max} (\\mathcal{R}^a_s + \\gamma \\cdot v_*(s'))\n",
    "\\end{equation}"
   ]
  },
  {
   "cell_type": "code",
   "execution_count": 5,
   "id": "da11e110-3990-45a7-9417-fe8d6ceeaef4",
   "metadata": {},
   "outputs": [],
   "source": [
    "# 3.2 Policy Extraction\n",
    "policy = {}\n",
    "for state in states:\n",
    "    if is_terminal(state):\n",
    "        policy[state] = 'T';\n",
    "        continue\n",
    "\n",
    "    best_action = max(actions, key=lambda action:\n",
    "        reward(state, action) + gamma * V[transition(state, action)]\n",
    "                     )\n",
    "    policy[state] = best_action"
   ]
  },
  {
   "cell_type": "markdown",
   "id": "cb6c0f92-9114-4531-8add-e839888ddc24",
   "metadata": {},
   "source": [
    "### Step 4. Displaying the Results\n",
    "---"
   ]
  },
  {
   "cell_type": "code",
   "execution_count": 6,
   "id": "efbbbca2-b5e1-4ef2-938f-d3c1d5830c14",
   "metadata": {},
   "outputs": [
    {
     "data": {
      "image/png": "[encoded data removed]",
      "text/plain": [
       "<Figure size 1000x400 with 2 Axes>"
      ]
     },
     "metadata": {},
     "output_type": "display_data"
    }
   ],
   "source": [
    "policy_mapping = {'T': 0, 'L': 1, 'D': 2, 'U': 3, 'R': 4}\n",
    "policy_arrows = [\"●\", \"←\", \"↓\", \"↑\", \"→\"]\n",
    "\n",
    "values = np.array([v for k, v in V.items()])\n",
    "values = values.reshape(grid_size[0], grid_size[1])\n",
    "policies = np.array([policy_mapping[v] for k, v in policy.items()])\n",
    "policies = policies.reshape(grid_size[0], grid_size[1])\n",
    "\n",
    "fig, axes = plt.subplots(1, 2, figsize=(10, 4))\n",
    "\n",
    "# Value Function\n",
    "ax1 = axes[0]\n",
    "ax1.imshow(np.zeros(grid_size), cmap='Blues', interpolation='none')\n",
    "ax1.set_title('Value Function')\n",
    "ax1.axis('off')\n",
    "ax1.set_facecolor('white')\n",
    "\n",
    "for i in range(grid_size[0]):\n",
    "    for j in range(grid_size[1]):\n",
    "        ax1.text(j, i, str(round(values[i][j], 2)), ha='center', va='center', color='black')\n",
    "\n",
    "# Policy Function\n",
    "ax2 = axes[1]\n",
    "ax2.imshow(np.zeros(grid_size), cmap='gray', interpolation='none')\n",
    "ax2.set_title('Policy Function')\n",
    "ax2.axis('off')\n",
    "ax2.set_facecolor('white')\n",
    "\n",
    "for i in range(grid_size[0]):\n",
    "    for j in range(grid_size[1]):\n",
    "        ax2.text(j, i, str(policy_arrows[policies[i][j]]), size=(30 if not policies[i][j] == 0 else 'medium'), ha='center', va='center', color='red')\n",
    "\n",
    "# Display the plot\n",
    "plt.tight_layout()\n",
    "plt.show()"
   ]
  }
 ],
 "metadata": {
  "kernelspec": {
   "display_name": "Python 3 (ipykernel)",
   "language": "python",
   "name": "python3"
  },
  "language_info": {
   "codemirror_mode": {
    "name": "ipython",
    "version": 3
   },
   "file_extension": ".py",
   "mimetype": "text/x-python",
   "name": "python",
   "nbconvert_exporter": "python",
   "pygments_lexer": "ipython3",
   "version": "3.9.6"
  }
 },
 "nbformat": 4,
 "nbformat_minor": 5
}
