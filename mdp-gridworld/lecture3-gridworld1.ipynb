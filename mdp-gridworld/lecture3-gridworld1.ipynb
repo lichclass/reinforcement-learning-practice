{
 "cells": [
  {
   "cell_type": "markdown",
   "id": "101ee7e6-d184-4e31-ac38-e622e5c33759",
   "metadata": {},
   "source": [
    "# Implementing Gridworld Environment\n",
    "\n",
    "This is ChatGPT Generated Activity\n",
    "\n",
    "Description:\n",
    "- Create a simple gridworld environment using Python where an agent moves in a 2D grid.\n",
    "- Define states, actions, transition probabilities, and rewards.\n",
    "- Test different policies manually to understand how value functions work."
   ]
  },
  {
   "cell_type": "code",
   "execution_count": 16,
   "id": "9b10e685-5692-4607-9dfb-4b9a8ea313a2",
   "metadata": {},
   "outputs": [],
   "source": [
    "import numpy as np\n",
    "import random"
   ]
  },
  {
   "cell_type": "code",
   "execution_count": 17,
   "id": "b3dc5207-6503-49d6-a906-76da6d4ec688",
   "metadata": {},
   "outputs": [],
   "source": [
    "import random\n",
    "\n",
    "class GridworldEnv:\n",
    "    def __init__(self, grid_size=(4, 4), goal_state=(0, 3), obstacles=[(1, 1), (2, 2)]):\n",
    "        self.grid_size = grid_size\n",
    "        self.goal_state = goal_state\n",
    "        self.obstacles = obstacles\n",
    "        self.actions = ['Up', 'Down', 'Left', 'Right']\n",
    "        self.action_moves = {\n",
    "            'Up': (-1, 0),\n",
    "            'Down': (1, 0),\n",
    "            'Left': (0, -1),\n",
    "            'Right': (0, 1)\n",
    "        }\n",
    "\n",
    "    def reset(self):\n",
    "        \"\"\"Resets the environment to the starting state.\"\"\"\n",
    "        self.state = (0, 0)\n",
    "        return self.state\n",
    "\n",
    "    def step(self, action):\n",
    "        \"\"\"Executes a step in the environment.\"\"\"\n",
    "        assert action in self.actions, \"Invalid action!\"\n",
    "\n",
    "        # Calculate intended move\n",
    "        intended_move = self.action_moves[action]\n",
    "        next_state = (self.state[0] + intended_move[0], self.state[1] + intended_move[1])\n",
    "\n",
    "        # Boundary and obstacle checks\n",
    "        if not (0 <= next_state[0] < self.grid_size[0] and 0 <= next_state[1] < self.grid_size[1]):\n",
    "            next_state = self.state  # Stay in the same state if out of bounds\n",
    "\n",
    "        if next_state in self.obstacles:\n",
    "            next_state = self.state  # Stay in the same state if hitting an obstacle\n",
    "\n",
    "        # Slippage (20% chance of unintended move)\n",
    "        if random.random() > 0.8:\n",
    "            possible_moves = list(self.action_moves.values())\n",
    "            possible_moves.remove(intended_move)\n",
    "            slip_move = random.choice(possible_moves)\n",
    "            slip_state = (self.state[0] + slip_move[0], self.state[1] + slip_move[1])\n",
    "\n",
    "            # Validate slip move\n",
    "            if 0 <= slip_state[0] < self.grid_size[0] and 0 <= slip_state[1] < self.grid_size[1]:\n",
    "                next_state = slip_state if slip_state not in self.obstacles else self.state\n",
    "\n",
    "        # Rewards and episode termination\n",
    "        if next_state == self.goal_state:\n",
    "            reward = 10\n",
    "            done = True\n",
    "        elif next_state in self.obstacles:\n",
    "            reward = -5\n",
    "            done = True\n",
    "        else:\n",
    "            reward = -1\n",
    "            done = False\n",
    "\n",
    "        self.state = next_state\n",
    "        return next_state, reward, done\n",
    "\n",
    "    def render(self):\n",
    "        \"\"\"Prints the grid with the current agent position.\"\"\"\n",
    "        grid = [['.' for _ in range(self.grid_size[1])] for _ in range(self.grid_size[0])]\n",
    "\n",
    "        # Mark goal and obstacles\n",
    "        grid[self.goal_state[0]][self.goal_state[1]] = 'G'\n",
    "        for obstacle in self.obstacles:\n",
    "            grid[obstacle[0]][obstacle[1]] = 'X'\n",
    "\n",
    "        # Mark agent position\n",
    "        agent_row, agent_col = self.state\n",
    "        grid[agent_row][agent_col] = 'A'\n",
    "\n",
    "        # Print the grid\n",
    "        for row in grid:\n",
    "            print(' '.join(row))\n",
    "        print()"
   ]
  },
  {
   "cell_type": "code",
   "execution_count": 20,
   "id": "3daaf21f-5f55-483d-99d7-8e2a72bae6b0",
   "metadata": {},
   "outputs": [
    {
     "name": "stdout",
     "output_type": "stream",
     "text": [
      "A . . G\n",
      ". X . .\n",
      ". . X .\n",
      ". . . .\n",
      "\n"
     ]
    }
   ],
   "source": [
    "env = GridworldEnv()\n",
    "\n",
    "state = env.reset()\n",
    "env.render()"
   ]
  }
 ],
 "metadata": {
  "kernelspec": {
   "display_name": "Python 3 (ipykernel)",
   "language": "python",
   "name": "python3"
  },
  "language_info": {
   "codemirror_mode": {
    "name": "ipython",
    "version": 3
   },
   "file_extension": ".py",
   "mimetype": "text/x-python",
   "name": "python",
   "nbconvert_exporter": "python",
   "pygments_lexer": "ipython3",
   "version": "3.9.6"
  }
 },
 "nbformat": 4,
 "nbformat_minor": 5
}
