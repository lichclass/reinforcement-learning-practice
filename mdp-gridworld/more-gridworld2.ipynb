{
 "cells": [
  {
   "cell_type": "markdown",
   "id": "9282c02a-6cd7-4e8c-9c3d-acfdef8f39e7",
   "metadata": {},
   "source": [
    "# More Gridworld 2"
   ]
  },
  {
   "cell_type": "code",
   "execution_count": 15,
   "id": "b6851446-b921-401c-84cf-7afc0db2e449",
   "metadata": {},
   "outputs": [
    {
     "ename": "SyntaxError",
     "evalue": "invalid syntax (3825978816.py, line 30)",
     "output_type": "error",
     "traceback": [
      "\u001b[0;36m  Cell \u001b[0;32mIn[15], line 30\u001b[0;36m\u001b[0m\n\u001b[0;31m    policy = {state: }\u001b[0m\n\u001b[0m                     ^\u001b[0m\n\u001b[0;31mSyntaxError\u001b[0m\u001b[0;31m:\u001b[0m invalid syntax\n"
     ]
    }
   ],
   "source": [
    "import random\n",
    "\n",
    "# Environment Examples\n",
    "grid_layout = (4, 4)\n",
    "obstacles = [(1, 1), (2, 3)]\n",
    "goal_state = (3, 3)\n",
    "\n",
    "\n",
    "# Displaying the Grid\n",
    "grid = [['.' for _ in range(grid_layout[1])] for _ in range(grid_layout[0])]\n",
    "grid[goal_state[0]][goal_state[1]] = 'G'\n",
    "for i, j in obstacles:\n",
    "    grid[i][j] = 'O'\n",
    "for row in grid:\n",
    "    print(' '.join(row))\n",
    "\n",
    "\n",
    "# State Spaces Initialization\n",
    "states = [(i, j) for i in range(grid_layout[0]) for j in range(grid_layout[1])]\n",
    "\n",
    "\n",
    "# Action Definitions\n",
    "actions = ['U', 'D', 'L', 'R']\n",
    "\n",
    "\n",
    "# No Transition Probabilities (Deterministic MDP)\n",
    "def step(state, action):\n",
    "    moves = {\n",
    "        'U': (-1, 0),  # Up\n",
    "        'D': (1, 0),   # Down\n",
    "        'L': (0, -1),  # Left\n",
    "        'R': (0, 1)    # Right\n",
    "    }\n",
    "\n",
    "    # Calculate next state\n",
    "    next_state = (state[0] + moves[action][0], state[1] + moves[action][1])\n",
    "\n",
    "    # Boundary check\n",
    "    if not (0 <= next_state[0] < grid_layout[0] and 0 <= next_state[1] < grid_layout[1]):\n",
    "        next_state = state  # Stay in current state if out of bounds\n",
    "\n",
    "    # Obstacle check\n",
    "    if next_state in obstacles:\n",
    "        next_state = state  # Stay in current state if obstacle\n",
    "\n",
    "    # Check if reached goal\n",
    "    if next_state == goal_state:\n",
    "        reward = 10\n",
    "        done = True\n",
    "    else:\n",
    "        reward = -1\n",
    "        done = False\n",
    "\n",
    "    return next_state, reward, done\n",
    "\n",
    "\n",
    "# Policy Representation\n",
    "policy = {state: random.choice(actions) for state in states}\n",
    "\n",
    "\n",
    "# Value Function\n",
    "value_function = {state: 0.0 for state in states}\n",
    "\n",
    "gamma = 0.9\n",
    "theta = 1e-6\n",
    "\n",
    "while True:\n",
    "    delta = 0\n",
    "    for state in states:\n",
    "        if state == goal_state:\n",
    "            continue\n",
    "\n",
    "        action = policy[state]\n",
    "\n"
   ]
  },
  {
   "cell_type": "code",
   "execution_count": 13,
   "id": "7548f447-08e6-49e2-9a9a-42d39d73ad6a",
   "metadata": {},
   "outputs": [],
   "source": []
  },
  {
   "cell_type": "code",
   "execution_count": null,
   "id": "272b4bf6-86eb-47d1-a314-64422dced652",
   "metadata": {},
   "outputs": [],
   "source": []
  }
 ],
 "metadata": {
  "kernelspec": {
   "display_name": "Python 3 (ipykernel)",
   "language": "python",
   "name": "python3"
  },
  "language_info": {
   "codemirror_mode": {
    "name": "ipython",
    "version": 3
   },
   "file_extension": ".py",
   "mimetype": "text/x-python",
   "name": "python",
   "nbconvert_exporter": "python",
   "pygments_lexer": "ipython3",
   "version": "3.9.21"
  }
 },
 "nbformat": 4,
 "nbformat_minor": 5
}
